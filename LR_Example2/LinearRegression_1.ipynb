{
 "cells": [
  {
   "cell_type": "markdown",
   "metadata": {},
   "source": [
    "# Performing Linear Regression on Car Dataset "
   ]
  },
  {
   "cell_type": "markdown",
   "metadata": {},
   "source": [
    "### Stage1 - Importing the data as is , and try to get the summary of the data , and gain insights on the loaded data "
   ]
  },
  {
   "cell_type": "markdown",
   "metadata": {},
   "source": [
    "#### Importing necessary libraries to read the CSV dataset ."
   ]
  },
  {
   "cell_type": "code",
   "execution_count": 30,
   "metadata": {},
   "outputs": [],
   "source": [
    "import pandas as pd\n",
    "import numpy as np\n",
    "import seaborn as sns\n",
    "import matplotlib.pyplot as plt"
   ]
  },
  {
   "cell_type": "markdown",
   "metadata": {},
   "source": [
    "#### Read CSV and load in dataframe ."
   ]
  },
  {
   "cell_type": "code",
   "execution_count": 31,
   "metadata": {},
   "outputs": [],
   "source": [
    "dataframe1 = pd.read_csv(\"car_details_1.csv\")\n",
    "dataframe1 = dataframe1.fillna(0)\n",
    "dataframe2 = pd.read_csv(\"car_details_2.csv\")\n",
    "dataframe2 = dataframe2.fillna(0)"
   ]
  },
  {
   "cell_type": "markdown",
   "metadata": {},
   "source": [
    "#### Head of the data , to get overall information on the dataframe ."
   ]
  },
  {
   "cell_type": "code",
   "execution_count": 32,
   "metadata": {},
   "outputs": [
    {
     "data": {
      "text/html": [
       "<div>\n",
       "<style scoped>\n",
       "    .dataframe tbody tr th:only-of-type {\n",
       "        vertical-align: middle;\n",
       "    }\n",
       "\n",
       "    .dataframe tbody tr th {\n",
       "        vertical-align: top;\n",
       "    }\n",
       "\n",
       "    .dataframe thead th {\n",
       "        text-align: right;\n",
       "    }\n",
       "</style>\n",
       "<table border=\"1\" class=\"dataframe\">\n",
       "  <thead>\n",
       "    <tr style=\"text-align: right;\">\n",
       "      <th></th>\n",
       "      <th>name</th>\n",
       "      <th>year</th>\n",
       "      <th>selling_price</th>\n",
       "      <th>km_driven</th>\n",
       "      <th>fuel</th>\n",
       "      <th>seller_type</th>\n",
       "      <th>transmission</th>\n",
       "      <th>owner</th>\n",
       "    </tr>\n",
       "  </thead>\n",
       "  <tbody>\n",
       "    <tr>\n",
       "      <th>0</th>\n",
       "      <td>Maruti 800 AC</td>\n",
       "      <td>2007</td>\n",
       "      <td>60000</td>\n",
       "      <td>70000</td>\n",
       "      <td>Petrol</td>\n",
       "      <td>Individual</td>\n",
       "      <td>Manual</td>\n",
       "      <td>First Owner</td>\n",
       "    </tr>\n",
       "    <tr>\n",
       "      <th>1</th>\n",
       "      <td>Maruti Wagon R LXI Minor</td>\n",
       "      <td>2007</td>\n",
       "      <td>135000</td>\n",
       "      <td>50000</td>\n",
       "      <td>Petrol</td>\n",
       "      <td>Individual</td>\n",
       "      <td>Manual</td>\n",
       "      <td>First Owner</td>\n",
       "    </tr>\n",
       "    <tr>\n",
       "      <th>2</th>\n",
       "      <td>Hyundai Verna 1.6 SX</td>\n",
       "      <td>2012</td>\n",
       "      <td>600000</td>\n",
       "      <td>100000</td>\n",
       "      <td>Diesel</td>\n",
       "      <td>Individual</td>\n",
       "      <td>Manual</td>\n",
       "      <td>First Owner</td>\n",
       "    </tr>\n",
       "    <tr>\n",
       "      <th>3</th>\n",
       "      <td>Datsun RediGO T Option</td>\n",
       "      <td>2017</td>\n",
       "      <td>250000</td>\n",
       "      <td>46000</td>\n",
       "      <td>Petrol</td>\n",
       "      <td>Individual</td>\n",
       "      <td>Manual</td>\n",
       "      <td>First Owner</td>\n",
       "    </tr>\n",
       "    <tr>\n",
       "      <th>4</th>\n",
       "      <td>Honda Amaze VX i-DTEC</td>\n",
       "      <td>2014</td>\n",
       "      <td>450000</td>\n",
       "      <td>141000</td>\n",
       "      <td>Diesel</td>\n",
       "      <td>Individual</td>\n",
       "      <td>Manual</td>\n",
       "      <td>Second Owner</td>\n",
       "    </tr>\n",
       "  </tbody>\n",
       "</table>\n",
       "</div>"
      ],
      "text/plain": [
       "                       name  year  selling_price  km_driven    fuel  \\\n",
       "0             Maruti 800 AC  2007          60000      70000  Petrol   \n",
       "1  Maruti Wagon R LXI Minor  2007         135000      50000  Petrol   \n",
       "2      Hyundai Verna 1.6 SX  2012         600000     100000  Diesel   \n",
       "3    Datsun RediGO T Option  2017         250000      46000  Petrol   \n",
       "4     Honda Amaze VX i-DTEC  2014         450000     141000  Diesel   \n",
       "\n",
       "  seller_type transmission         owner  \n",
       "0  Individual       Manual   First Owner  \n",
       "1  Individual       Manual   First Owner  \n",
       "2  Individual       Manual   First Owner  \n",
       "3  Individual       Manual   First Owner  \n",
       "4  Individual       Manual  Second Owner  "
      ]
     },
     "execution_count": 32,
     "metadata": {},
     "output_type": "execute_result"
    }
   ],
   "source": [
    "dataframe1.head()"
   ]
  },
  {
   "cell_type": "code",
   "execution_count": 33,
   "metadata": {},
   "outputs": [
    {
     "data": {
      "text/html": [
       "<div>\n",
       "<style scoped>\n",
       "    .dataframe tbody tr th:only-of-type {\n",
       "        vertical-align: middle;\n",
       "    }\n",
       "\n",
       "    .dataframe tbody tr th {\n",
       "        vertical-align: top;\n",
       "    }\n",
       "\n",
       "    .dataframe thead th {\n",
       "        text-align: right;\n",
       "    }\n",
       "</style>\n",
       "<table border=\"1\" class=\"dataframe\">\n",
       "  <thead>\n",
       "    <tr style=\"text-align: right;\">\n",
       "      <th></th>\n",
       "      <th>name</th>\n",
       "      <th>year</th>\n",
       "      <th>selling_price</th>\n",
       "      <th>km_driven</th>\n",
       "      <th>fuel</th>\n",
       "      <th>seller_type</th>\n",
       "      <th>transmission</th>\n",
       "      <th>owner</th>\n",
       "      <th>mileage</th>\n",
       "      <th>engine</th>\n",
       "      <th>max_power</th>\n",
       "      <th>torque</th>\n",
       "      <th>seats</th>\n",
       "    </tr>\n",
       "  </thead>\n",
       "  <tbody>\n",
       "    <tr>\n",
       "      <th>0</th>\n",
       "      <td>Maruti Swift Dzire VDI</td>\n",
       "      <td>2014</td>\n",
       "      <td>450000</td>\n",
       "      <td>145500</td>\n",
       "      <td>Diesel</td>\n",
       "      <td>Individual</td>\n",
       "      <td>Manual</td>\n",
       "      <td>First Owner</td>\n",
       "      <td>23.4 kmpl</td>\n",
       "      <td>1248 CC</td>\n",
       "      <td>74 bhp</td>\n",
       "      <td>190Nm@ 2000rpm</td>\n",
       "      <td>5.0</td>\n",
       "    </tr>\n",
       "    <tr>\n",
       "      <th>1</th>\n",
       "      <td>Skoda Rapid 1.5 TDI Ambition</td>\n",
       "      <td>2014</td>\n",
       "      <td>370000</td>\n",
       "      <td>120000</td>\n",
       "      <td>Diesel</td>\n",
       "      <td>Individual</td>\n",
       "      <td>Manual</td>\n",
       "      <td>Second Owner</td>\n",
       "      <td>21.14 kmpl</td>\n",
       "      <td>1498 CC</td>\n",
       "      <td>103.52 bhp</td>\n",
       "      <td>250Nm@ 1500-2500rpm</td>\n",
       "      <td>5.0</td>\n",
       "    </tr>\n",
       "    <tr>\n",
       "      <th>2</th>\n",
       "      <td>Honda City 2017-2020 EXi</td>\n",
       "      <td>2006</td>\n",
       "      <td>158000</td>\n",
       "      <td>140000</td>\n",
       "      <td>Petrol</td>\n",
       "      <td>Individual</td>\n",
       "      <td>Manual</td>\n",
       "      <td>Third Owner</td>\n",
       "      <td>17.7 kmpl</td>\n",
       "      <td>1497 CC</td>\n",
       "      <td>78 bhp</td>\n",
       "      <td>12.7@ 2,700(kgm@ rpm)</td>\n",
       "      <td>5.0</td>\n",
       "    </tr>\n",
       "    <tr>\n",
       "      <th>3</th>\n",
       "      <td>Hyundai i20 Sportz Diesel</td>\n",
       "      <td>2010</td>\n",
       "      <td>225000</td>\n",
       "      <td>127000</td>\n",
       "      <td>Diesel</td>\n",
       "      <td>Individual</td>\n",
       "      <td>Manual</td>\n",
       "      <td>First Owner</td>\n",
       "      <td>23.0 kmpl</td>\n",
       "      <td>1396 CC</td>\n",
       "      <td>90 bhp</td>\n",
       "      <td>22.4 kgm at 1750-2750rpm</td>\n",
       "      <td>5.0</td>\n",
       "    </tr>\n",
       "    <tr>\n",
       "      <th>4</th>\n",
       "      <td>Maruti Swift VXI BSIII</td>\n",
       "      <td>2007</td>\n",
       "      <td>130000</td>\n",
       "      <td>120000</td>\n",
       "      <td>Petrol</td>\n",
       "      <td>Individual</td>\n",
       "      <td>Manual</td>\n",
       "      <td>First Owner</td>\n",
       "      <td>16.1 kmpl</td>\n",
       "      <td>1298 CC</td>\n",
       "      <td>88.2 bhp</td>\n",
       "      <td>11.5@ 4,500(kgm@ rpm)</td>\n",
       "      <td>5.0</td>\n",
       "    </tr>\n",
       "  </tbody>\n",
       "</table>\n",
       "</div>"
      ],
      "text/plain": [
       "                           name  year  selling_price  km_driven    fuel  \\\n",
       "0        Maruti Swift Dzire VDI  2014         450000     145500  Diesel   \n",
       "1  Skoda Rapid 1.5 TDI Ambition  2014         370000     120000  Diesel   \n",
       "2      Honda City 2017-2020 EXi  2006         158000     140000  Petrol   \n",
       "3     Hyundai i20 Sportz Diesel  2010         225000     127000  Diesel   \n",
       "4        Maruti Swift VXI BSIII  2007         130000     120000  Petrol   \n",
       "\n",
       "  seller_type transmission         owner     mileage   engine   max_power  \\\n",
       "0  Individual       Manual   First Owner   23.4 kmpl  1248 CC      74 bhp   \n",
       "1  Individual       Manual  Second Owner  21.14 kmpl  1498 CC  103.52 bhp   \n",
       "2  Individual       Manual   Third Owner   17.7 kmpl  1497 CC      78 bhp   \n",
       "3  Individual       Manual   First Owner   23.0 kmpl  1396 CC      90 bhp   \n",
       "4  Individual       Manual   First Owner   16.1 kmpl  1298 CC    88.2 bhp   \n",
       "\n",
       "                     torque  seats  \n",
       "0            190Nm@ 2000rpm    5.0  \n",
       "1       250Nm@ 1500-2500rpm    5.0  \n",
       "2     12.7@ 2,700(kgm@ rpm)    5.0  \n",
       "3  22.4 kgm at 1750-2750rpm    5.0  \n",
       "4     11.5@ 4,500(kgm@ rpm)    5.0  "
      ]
     },
     "execution_count": 33,
     "metadata": {},
     "output_type": "execute_result"
    }
   ],
   "source": [
    "dataframe2.head()"
   ]
  },
  {
   "cell_type": "code",
   "execution_count": 34,
   "metadata": {},
   "outputs": [
    {
     "data": {
      "text/html": [
       "<div>\n",
       "<style scoped>\n",
       "    .dataframe tbody tr th:only-of-type {\n",
       "        vertical-align: middle;\n",
       "    }\n",
       "\n",
       "    .dataframe tbody tr th {\n",
       "        vertical-align: top;\n",
       "    }\n",
       "\n",
       "    .dataframe thead th {\n",
       "        text-align: right;\n",
       "    }\n",
       "</style>\n",
       "<table border=\"1\" class=\"dataframe\">\n",
       "  <thead>\n",
       "    <tr style=\"text-align: right;\">\n",
       "      <th></th>\n",
       "      <th>year</th>\n",
       "      <th>selling_price</th>\n",
       "      <th>km_driven</th>\n",
       "    </tr>\n",
       "  </thead>\n",
       "  <tbody>\n",
       "    <tr>\n",
       "      <th>count</th>\n",
       "      <td>4340.000000</td>\n",
       "      <td>4.340000e+03</td>\n",
       "      <td>4340.000000</td>\n",
       "    </tr>\n",
       "    <tr>\n",
       "      <th>mean</th>\n",
       "      <td>2013.090783</td>\n",
       "      <td>5.041273e+05</td>\n",
       "      <td>66215.777419</td>\n",
       "    </tr>\n",
       "    <tr>\n",
       "      <th>std</th>\n",
       "      <td>4.215344</td>\n",
       "      <td>5.785487e+05</td>\n",
       "      <td>46644.102194</td>\n",
       "    </tr>\n",
       "    <tr>\n",
       "      <th>min</th>\n",
       "      <td>1992.000000</td>\n",
       "      <td>2.000000e+04</td>\n",
       "      <td>1.000000</td>\n",
       "    </tr>\n",
       "    <tr>\n",
       "      <th>25%</th>\n",
       "      <td>2011.000000</td>\n",
       "      <td>2.087498e+05</td>\n",
       "      <td>35000.000000</td>\n",
       "    </tr>\n",
       "    <tr>\n",
       "      <th>50%</th>\n",
       "      <td>2014.000000</td>\n",
       "      <td>3.500000e+05</td>\n",
       "      <td>60000.000000</td>\n",
       "    </tr>\n",
       "    <tr>\n",
       "      <th>75%</th>\n",
       "      <td>2016.000000</td>\n",
       "      <td>6.000000e+05</td>\n",
       "      <td>90000.000000</td>\n",
       "    </tr>\n",
       "    <tr>\n",
       "      <th>max</th>\n",
       "      <td>2020.000000</td>\n",
       "      <td>8.900000e+06</td>\n",
       "      <td>806599.000000</td>\n",
       "    </tr>\n",
       "  </tbody>\n",
       "</table>\n",
       "</div>"
      ],
      "text/plain": [
       "              year  selling_price      km_driven\n",
       "count  4340.000000   4.340000e+03    4340.000000\n",
       "mean   2013.090783   5.041273e+05   66215.777419\n",
       "std       4.215344   5.785487e+05   46644.102194\n",
       "min    1992.000000   2.000000e+04       1.000000\n",
       "25%    2011.000000   2.087498e+05   35000.000000\n",
       "50%    2014.000000   3.500000e+05   60000.000000\n",
       "75%    2016.000000   6.000000e+05   90000.000000\n",
       "max    2020.000000   8.900000e+06  806599.000000"
      ]
     },
     "execution_count": 34,
     "metadata": {},
     "output_type": "execute_result"
    }
   ],
   "source": [
    "dataframe1.describe()"
   ]
  },
  {
   "cell_type": "code",
   "execution_count": 35,
   "metadata": {},
   "outputs": [
    {
     "data": {
      "text/html": [
       "<div>\n",
       "<style scoped>\n",
       "    .dataframe tbody tr th:only-of-type {\n",
       "        vertical-align: middle;\n",
       "    }\n",
       "\n",
       "    .dataframe tbody tr th {\n",
       "        vertical-align: top;\n",
       "    }\n",
       "\n",
       "    .dataframe thead th {\n",
       "        text-align: right;\n",
       "    }\n",
       "</style>\n",
       "<table border=\"1\" class=\"dataframe\">\n",
       "  <thead>\n",
       "    <tr style=\"text-align: right;\">\n",
       "      <th></th>\n",
       "      <th>year</th>\n",
       "      <th>selling_price</th>\n",
       "      <th>km_driven</th>\n",
       "      <th>seats</th>\n",
       "    </tr>\n",
       "  </thead>\n",
       "  <tbody>\n",
       "    <tr>\n",
       "      <th>count</th>\n",
       "      <td>8128.000000</td>\n",
       "      <td>8.128000e+03</td>\n",
       "      <td>8.128000e+03</td>\n",
       "      <td>8128.000000</td>\n",
       "    </tr>\n",
       "    <tr>\n",
       "      <th>mean</th>\n",
       "      <td>2013.804011</td>\n",
       "      <td>6.382718e+05</td>\n",
       "      <td>6.981951e+04</td>\n",
       "      <td>5.269439</td>\n",
       "    </tr>\n",
       "    <tr>\n",
       "      <th>std</th>\n",
       "      <td>4.044249</td>\n",
       "      <td>8.062534e+05</td>\n",
       "      <td>5.655055e+04</td>\n",
       "      <td>1.293039</td>\n",
       "    </tr>\n",
       "    <tr>\n",
       "      <th>min</th>\n",
       "      <td>1983.000000</td>\n",
       "      <td>2.999900e+04</td>\n",
       "      <td>1.000000e+00</td>\n",
       "      <td>0.000000</td>\n",
       "    </tr>\n",
       "    <tr>\n",
       "      <th>25%</th>\n",
       "      <td>2011.000000</td>\n",
       "      <td>2.549990e+05</td>\n",
       "      <td>3.500000e+04</td>\n",
       "      <td>5.000000</td>\n",
       "    </tr>\n",
       "    <tr>\n",
       "      <th>50%</th>\n",
       "      <td>2015.000000</td>\n",
       "      <td>4.500000e+05</td>\n",
       "      <td>6.000000e+04</td>\n",
       "      <td>5.000000</td>\n",
       "    </tr>\n",
       "    <tr>\n",
       "      <th>75%</th>\n",
       "      <td>2017.000000</td>\n",
       "      <td>6.750000e+05</td>\n",
       "      <td>9.800000e+04</td>\n",
       "      <td>5.000000</td>\n",
       "    </tr>\n",
       "    <tr>\n",
       "      <th>max</th>\n",
       "      <td>2020.000000</td>\n",
       "      <td>1.000000e+07</td>\n",
       "      <td>2.360457e+06</td>\n",
       "      <td>14.000000</td>\n",
       "    </tr>\n",
       "  </tbody>\n",
       "</table>\n",
       "</div>"
      ],
      "text/plain": [
       "              year  selling_price     km_driven        seats\n",
       "count  8128.000000   8.128000e+03  8.128000e+03  8128.000000\n",
       "mean   2013.804011   6.382718e+05  6.981951e+04     5.269439\n",
       "std       4.044249   8.062534e+05  5.655055e+04     1.293039\n",
       "min    1983.000000   2.999900e+04  1.000000e+00     0.000000\n",
       "25%    2011.000000   2.549990e+05  3.500000e+04     5.000000\n",
       "50%    2015.000000   4.500000e+05  6.000000e+04     5.000000\n",
       "75%    2017.000000   6.750000e+05  9.800000e+04     5.000000\n",
       "max    2020.000000   1.000000e+07  2.360457e+06    14.000000"
      ]
     },
     "execution_count": 35,
     "metadata": {},
     "output_type": "execute_result"
    }
   ],
   "source": [
    "dataframe2.describe()"
   ]
  },
  {
   "cell_type": "markdown",
   "metadata": {},
   "source": [
    "#### Correlation between Data in both the dataframe"
   ]
  },
  {
   "cell_type": "code",
   "execution_count": 36,
   "metadata": {},
   "outputs": [
    {
     "data": {
      "text/html": [
       "<div>\n",
       "<style scoped>\n",
       "    .dataframe tbody tr th:only-of-type {\n",
       "        vertical-align: middle;\n",
       "    }\n",
       "\n",
       "    .dataframe tbody tr th {\n",
       "        vertical-align: top;\n",
       "    }\n",
       "\n",
       "    .dataframe thead th {\n",
       "        text-align: right;\n",
       "    }\n",
       "</style>\n",
       "<table border=\"1\" class=\"dataframe\">\n",
       "  <thead>\n",
       "    <tr style=\"text-align: right;\">\n",
       "      <th></th>\n",
       "      <th>year</th>\n",
       "      <th>selling_price</th>\n",
       "      <th>km_driven</th>\n",
       "    </tr>\n",
       "  </thead>\n",
       "  <tbody>\n",
       "    <tr>\n",
       "      <th>year</th>\n",
       "      <td>1.000000</td>\n",
       "      <td>0.413922</td>\n",
       "      <td>-0.419688</td>\n",
       "    </tr>\n",
       "    <tr>\n",
       "      <th>selling_price</th>\n",
       "      <td>0.413922</td>\n",
       "      <td>1.000000</td>\n",
       "      <td>-0.192289</td>\n",
       "    </tr>\n",
       "    <tr>\n",
       "      <th>km_driven</th>\n",
       "      <td>-0.419688</td>\n",
       "      <td>-0.192289</td>\n",
       "      <td>1.000000</td>\n",
       "    </tr>\n",
       "  </tbody>\n",
       "</table>\n",
       "</div>"
      ],
      "text/plain": [
       "                   year  selling_price  km_driven\n",
       "year           1.000000       0.413922  -0.419688\n",
       "selling_price  0.413922       1.000000  -0.192289\n",
       "km_driven     -0.419688      -0.192289   1.000000"
      ]
     },
     "execution_count": 36,
     "metadata": {},
     "output_type": "execute_result"
    }
   ],
   "source": [
    "dataframe1.corr()"
   ]
  },
  {
   "cell_type": "markdown",
   "metadata": {},
   "source": [
    "Seems that the year of the make of model has a strong correlation with the selling price of the car .\n",
    "Most of all , it also states that the older cars tended to be cheaper than newer cars , due to various other factors contributing to increase in price ."
   ]
  },
  {
   "cell_type": "code",
   "execution_count": 37,
   "metadata": {},
   "outputs": [
    {
     "data": {
      "text/html": [
       "<div>\n",
       "<style scoped>\n",
       "    .dataframe tbody tr th:only-of-type {\n",
       "        vertical-align: middle;\n",
       "    }\n",
       "\n",
       "    .dataframe tbody tr th {\n",
       "        vertical-align: top;\n",
       "    }\n",
       "\n",
       "    .dataframe thead th {\n",
       "        text-align: right;\n",
       "    }\n",
       "</style>\n",
       "<table border=\"1\" class=\"dataframe\">\n",
       "  <thead>\n",
       "    <tr style=\"text-align: right;\">\n",
       "      <th></th>\n",
       "      <th>year</th>\n",
       "      <th>selling_price</th>\n",
       "      <th>km_driven</th>\n",
       "      <th>seats</th>\n",
       "    </tr>\n",
       "  </thead>\n",
       "  <tbody>\n",
       "    <tr>\n",
       "      <th>year</th>\n",
       "      <td>1.000000</td>\n",
       "      <td>0.414092</td>\n",
       "      <td>-0.418006</td>\n",
       "      <td>0.173232</td>\n",
       "    </tr>\n",
       "    <tr>\n",
       "      <th>selling_price</th>\n",
       "      <td>0.414092</td>\n",
       "      <td>1.000000</td>\n",
       "      <td>-0.225534</td>\n",
       "      <td>0.088110</td>\n",
       "    </tr>\n",
       "    <tr>\n",
       "      <th>km_driven</th>\n",
       "      <td>-0.418006</td>\n",
       "      <td>-0.225534</td>\n",
       "      <td>1.000000</td>\n",
       "      <td>0.119630</td>\n",
       "    </tr>\n",
       "    <tr>\n",
       "      <th>seats</th>\n",
       "      <td>0.173232</td>\n",
       "      <td>0.088110</td>\n",
       "      <td>0.119630</td>\n",
       "      <td>1.000000</td>\n",
       "    </tr>\n",
       "  </tbody>\n",
       "</table>\n",
       "</div>"
      ],
      "text/plain": [
       "                   year  selling_price  km_driven     seats\n",
       "year           1.000000       0.414092  -0.418006  0.173232\n",
       "selling_price  0.414092       1.000000  -0.225534  0.088110\n",
       "km_driven     -0.418006      -0.225534   1.000000  0.119630\n",
       "seats          0.173232       0.088110   0.119630  1.000000"
      ]
     },
     "execution_count": 37,
     "metadata": {},
     "output_type": "execute_result"
    }
   ],
   "source": [
    "dataframe2.corr()"
   ]
  },
  {
   "cell_type": "markdown",
   "metadata": {},
   "source": [
    "### Stage 2 - Preprocessing Data and developing more insights on the loaded data "
   ]
  },
  {
   "cell_type": "markdown",
   "metadata": {},
   "source": [
    "Types of Owner of car in both the DataFrame .\n",
    "\n",
    "\n",
    "Dataframe1 :"
   ]
  },
  {
   "cell_type": "code",
   "execution_count": 38,
   "metadata": {},
   "outputs": [
    {
     "name": "stdout",
     "output_type": "stream",
     "text": [
      "Types of Owner in DataFrame1 : \n",
      "\n",
      "First Owner\n",
      "Second Owner\n",
      "Fourth & Above Owner\n",
      "Third Owner\n",
      "Test Drive Car\n",
      "\n",
      "\n",
      "Types of Fuel : \n",
      "\n",
      "Petrol\n",
      "Diesel\n",
      "CNG\n",
      "LPG\n",
      "Electric\n",
      "\n",
      "\n",
      "Types of Seller Type : \n",
      "\n",
      "Individual\n",
      "Dealer\n",
      "Trustmark Dealer\n",
      "\n",
      "\n",
      "Types of Transmission Type : \n",
      "\n",
      "Manual\n",
      "Automatic\n"
     ]
    }
   ],
   "source": [
    "print('Types of Owner in DataFrame1 : \\n')\n",
    "\n",
    "for x in list(dataframe1['owner'].unique()):\n",
    "    print(x)\n",
    "    \n",
    "print('\\n\\nTypes of Fuel : \\n')\n",
    "\n",
    "for x in list(dataframe1['fuel'].unique()):\n",
    "    print(x)\n",
    "    \n",
    "print('\\n\\nTypes of Seller Type : \\n')\n",
    "\n",
    "for x in list(dataframe1['seller_type'].unique()):\n",
    "    print(x)\n",
    "    \n",
    "print('\\n\\nTypes of Transmission Type : \\n')\n",
    "\n",
    "for x in list(dataframe1['transmission'].unique()):\n",
    "    print(x)"
   ]
  },
  {
   "cell_type": "code",
   "execution_count": 39,
   "metadata": {
    "scrolled": false
   },
   "outputs": [
    {
     "name": "stdout",
     "output_type": "stream",
     "text": [
      "Types of Owner in DataFrame2 : \n",
      "\n",
      "First Owner\n",
      "Second Owner\n",
      "Third Owner\n",
      "Fourth & Above Owner\n",
      "Test Drive Car\n",
      "\n",
      "\n",
      "Types of Fuel : \n",
      "\n",
      "Diesel\n",
      "Petrol\n",
      "LPG\n",
      "CNG\n",
      "\n",
      "\n",
      "Types of Seller Type : \n",
      "\n",
      "Individual\n",
      "Dealer\n",
      "Trustmark Dealer\n",
      "\n",
      "\n",
      "Types of Transmission Type : \n",
      "\n",
      "Manual\n",
      "Automatic\n"
     ]
    }
   ],
   "source": [
    "print('Types of Owner in DataFrame2 : \\n')\n",
    "\n",
    "for x in list(dataframe2['owner'].unique()):\n",
    "    print(x)\n",
    "    \n",
    "print('\\n\\nTypes of Fuel : \\n')\n",
    "\n",
    "for x in list(dataframe2['fuel'].unique()):\n",
    "    print(x)\n",
    "    \n",
    "print('\\n\\nTypes of Seller Type : \\n')\n",
    "\n",
    "for x in list(dataframe2['seller_type'].unique()):\n",
    "    print(x)\n",
    "    \n",
    "print('\\n\\nTypes of Transmission Type : \\n')\n",
    "\n",
    "for x in list(dataframe2['transmission'].unique()):\n",
    "    print(x)"
   ]
  },
  {
   "cell_type": "markdown",
   "metadata": {},
   "source": [
    "Both the dataframe contains same set of values for the owner column , which means , the car can be classified in 5 kinds , based on owner of the car ."
   ]
  },
  {
   "cell_type": "markdown",
   "metadata": {},
   "source": [
    "Number of records present in Dataframe1 and Dataframe2"
   ]
  },
  {
   "cell_type": "code",
   "execution_count": 40,
   "metadata": {},
   "outputs": [
    {
     "name": "stdout",
     "output_type": "stream",
     "text": [
      "DataFrame1 contains 4340 records and DataFrame2 contains 8128\n"
     ]
    }
   ],
   "source": [
    "print('DataFrame1 contains '+str(dataframe1['name'].count())+' records and DataFrame2 contains '+str(dataframe2['name'].count()))"
   ]
  },
  {
   "cell_type": "markdown",
   "metadata": {},
   "source": [
    "Note :: No joins should be performed on the two dataframes , as these are individual records without any dependency or foreign Key References ."
   ]
  },
  {
   "cell_type": "markdown",
   "metadata": {},
   "source": [
    "#### Providing new Integer Codes for Fuel of the Car .\n",
    "    Diesel = 1\n",
    "    Petrol = 2\n",
    "    LPG = 3\n",
    "    CNG = 4"
   ]
  },
  {
   "cell_type": "code",
   "execution_count": 41,
   "metadata": {},
   "outputs": [],
   "source": [
    "dataframe1['fuel']=dataframe1['fuel'].map(lambda x: 1 if x=='Diesel' else(2 if x=='Petrol' else(3 if x=='LPG' else 4)))\n",
    "dataframe2['fuel']=dataframe2['fuel'].map(lambda x: 1 if x=='Diesel' else(2 if x=='Petrol' else(3 if x=='LPG' else 4)))"
   ]
  },
  {
   "cell_type": "markdown",
   "metadata": {},
   "source": [
    "#### Providing new Integer Codes for Transmission of the Car .\n",
    "    Manual = 1\n",
    "    Automatic = 2"
   ]
  },
  {
   "cell_type": "code",
   "execution_count": 42,
   "metadata": {},
   "outputs": [],
   "source": [
    "dataframe1['transmission']=dataframe1['transmission'].map(lambda x: 1 if x=='Manual' else 2)\n",
    "dataframe2['transmission']=dataframe2['transmission'].map(lambda x: 1 if x=='Manual' else 2)"
   ]
  },
  {
   "cell_type": "markdown",
   "metadata": {},
   "source": [
    "#### Providing new Integer Codes for Seller Types of the Car .\n",
    "    Individual = 1\n",
    "    Dealer = 2\n",
    "    Trustmark Dealer = 3"
   ]
  },
  {
   "cell_type": "code",
   "execution_count": 43,
   "metadata": {},
   "outputs": [],
   "source": [
    "dataframe1['seller_type']=dataframe1[\"seller_type\"].map(lambda x: 1 if x=='Individual' else (2 if x=='Dealer' else 3))\n",
    "dataframe2['seller_type']=dataframe2[\"seller_type\"].map(lambda x: 1 if x=='Individual' else (2 if x=='Dealer' else 3))"
   ]
  },
  {
   "cell_type": "markdown",
   "metadata": {},
   "source": [
    "#### Providing new Integer Codes for Owner Columns of the DataFrame .\n",
    "\n",
    "    First Owner = 1\n",
    "    Second Owner = 2\n",
    "    Third Owner = 3\n",
    "    Fourth & Above Owner = 4\n",
    "    Test Drive Car = 5"
   ]
  },
  {
   "cell_type": "code",
   "execution_count": 44,
   "metadata": {},
   "outputs": [],
   "source": [
    "dataframe1['owner']=dataframe1['owner'].map(lambda x: 1 if x=='First Owner' else(2 if x=='Second Owner' else(3 if x=='Third Owner' else(4 if x =='Fourth & Above Owner' else 5))))\n",
    "dataframe2['owner']=dataframe2['owner'].map(lambda x: 1 if x=='First Owner' else(2 if x=='Second Owner' else(3 if x=='Third Owner' else(4 if x =='Fourth & Above Owner' else 5))))"
   ]
  },
  {
   "cell_type": "markdown",
   "metadata": {},
   "source": [
    "### Converting Mileage , Engine and Max_Power columns into floating Value for easy calculation ."
   ]
  },
  {
   "cell_type": "code",
   "execution_count": 45,
   "metadata": {},
   "outputs": [],
   "source": [
    "dataframe2['mileage'] = dataframe2['mileage'].map(lambda x : float(str(x).strip().split()[0]))\n",
    "dataframe2['engine'] = dataframe2['engine'].map(lambda x : float(str(x).strip().split()[0]))\n",
    "dataframe2['max_power'] = dataframe2['max_power'].map(lambda x : (str(x).strip().split('bhp')[0]))\n",
    "dataframe2['max_power'] = pd.to_numeric(dataframe2['max_power'])"
   ]
  },
  {
   "cell_type": "markdown",
   "metadata": {},
   "source": [
    "### Performing Correletion again to gain insights on newly converted data ."
   ]
  },
  {
   "cell_type": "code",
   "execution_count": 46,
   "metadata": {},
   "outputs": [
    {
     "data": {
      "text/html": [
       "<div>\n",
       "<style scoped>\n",
       "    .dataframe tbody tr th:only-of-type {\n",
       "        vertical-align: middle;\n",
       "    }\n",
       "\n",
       "    .dataframe tbody tr th {\n",
       "        vertical-align: top;\n",
       "    }\n",
       "\n",
       "    .dataframe thead th {\n",
       "        text-align: right;\n",
       "    }\n",
       "</style>\n",
       "<table border=\"1\" class=\"dataframe\">\n",
       "  <thead>\n",
       "    <tr style=\"text-align: right;\">\n",
       "      <th></th>\n",
       "      <th>year</th>\n",
       "      <th>selling_price</th>\n",
       "      <th>km_driven</th>\n",
       "      <th>fuel</th>\n",
       "      <th>seller_type</th>\n",
       "      <th>transmission</th>\n",
       "      <th>owner</th>\n",
       "    </tr>\n",
       "  </thead>\n",
       "  <tbody>\n",
       "    <tr>\n",
       "      <th>year</th>\n",
       "      <td>1.000000</td>\n",
       "      <td>0.413922</td>\n",
       "      <td>-0.419688</td>\n",
       "      <td>-0.112923</td>\n",
       "      <td>0.182458</td>\n",
       "      <td>0.143800</td>\n",
       "      <td>-0.410448</td>\n",
       "    </tr>\n",
       "    <tr>\n",
       "      <th>selling_price</th>\n",
       "      <td>0.413922</td>\n",
       "      <td>1.000000</td>\n",
       "      <td>-0.192289</td>\n",
       "      <td>-0.270073</td>\n",
       "      <td>0.240666</td>\n",
       "      <td>0.530205</td>\n",
       "      <td>-0.198833</td>\n",
       "    </tr>\n",
       "    <tr>\n",
       "      <th>km_driven</th>\n",
       "      <td>-0.419688</td>\n",
       "      <td>-0.192289</td>\n",
       "      <td>1.000000</td>\n",
       "      <td>-0.248272</td>\n",
       "      <td>-0.187131</td>\n",
       "      <td>-0.120226</td>\n",
       "      <td>0.274409</td>\n",
       "    </tr>\n",
       "    <tr>\n",
       "      <th>fuel</th>\n",
       "      <td>-0.112923</td>\n",
       "      <td>-0.270073</td>\n",
       "      <td>-0.248272</td>\n",
       "      <td>1.000000</td>\n",
       "      <td>-0.031883</td>\n",
       "      <td>-0.054645</td>\n",
       "      <td>0.019131</td>\n",
       "    </tr>\n",
       "    <tr>\n",
       "      <th>seller_type</th>\n",
       "      <td>0.182458</td>\n",
       "      <td>0.240666</td>\n",
       "      <td>-0.187131</td>\n",
       "      <td>-0.031883</td>\n",
       "      <td>1.000000</td>\n",
       "      <td>0.200191</td>\n",
       "      <td>-0.211115</td>\n",
       "    </tr>\n",
       "    <tr>\n",
       "      <th>transmission</th>\n",
       "      <td>0.143800</td>\n",
       "      <td>0.530205</td>\n",
       "      <td>-0.120226</td>\n",
       "      <td>-0.054645</td>\n",
       "      <td>0.200191</td>\n",
       "      <td>1.000000</td>\n",
       "      <td>-0.083924</td>\n",
       "    </tr>\n",
       "    <tr>\n",
       "      <th>owner</th>\n",
       "      <td>-0.410448</td>\n",
       "      <td>-0.198833</td>\n",
       "      <td>0.274409</td>\n",
       "      <td>0.019131</td>\n",
       "      <td>-0.211115</td>\n",
       "      <td>-0.083924</td>\n",
       "      <td>1.000000</td>\n",
       "    </tr>\n",
       "  </tbody>\n",
       "</table>\n",
       "</div>"
      ],
      "text/plain": [
       "                   year  selling_price  km_driven      fuel  seller_type  \\\n",
       "year           1.000000       0.413922  -0.419688 -0.112923     0.182458   \n",
       "selling_price  0.413922       1.000000  -0.192289 -0.270073     0.240666   \n",
       "km_driven     -0.419688      -0.192289   1.000000 -0.248272    -0.187131   \n",
       "fuel          -0.112923      -0.270073  -0.248272  1.000000    -0.031883   \n",
       "seller_type    0.182458       0.240666  -0.187131 -0.031883     1.000000   \n",
       "transmission   0.143800       0.530205  -0.120226 -0.054645     0.200191   \n",
       "owner         -0.410448      -0.198833   0.274409  0.019131    -0.211115   \n",
       "\n",
       "               transmission     owner  \n",
       "year               0.143800 -0.410448  \n",
       "selling_price      0.530205 -0.198833  \n",
       "km_driven         -0.120226  0.274409  \n",
       "fuel              -0.054645  0.019131  \n",
       "seller_type        0.200191 -0.211115  \n",
       "transmission       1.000000 -0.083924  \n",
       "owner             -0.083924  1.000000  "
      ]
     },
     "execution_count": 46,
     "metadata": {},
     "output_type": "execute_result"
    }
   ],
   "source": [
    "dataframe1.corr()"
   ]
  },
  {
   "cell_type": "markdown",
   "metadata": {},
   "source": [
    "From the above correlation matrix , it seems to be clear that Selling Price of the Car has a greater dependency on the Transmission of the Car . Automatic transmission seems to be costing more than that of Manual Transmission .\n",
    "\n",
    "Moreover Trustmark Dealers do have Higher Selling Price , noting the fact that they might be selling more new cars than old ones ."
   ]
  },
  {
   "cell_type": "code",
   "execution_count": 47,
   "metadata": {},
   "outputs": [
    {
     "data": {
      "text/html": [
       "<div>\n",
       "<style scoped>\n",
       "    .dataframe tbody tr th:only-of-type {\n",
       "        vertical-align: middle;\n",
       "    }\n",
       "\n",
       "    .dataframe tbody tr th {\n",
       "        vertical-align: top;\n",
       "    }\n",
       "\n",
       "    .dataframe thead th {\n",
       "        text-align: right;\n",
       "    }\n",
       "</style>\n",
       "<table border=\"1\" class=\"dataframe\">\n",
       "  <thead>\n",
       "    <tr style=\"text-align: right;\">\n",
       "      <th></th>\n",
       "      <th>year</th>\n",
       "      <th>selling_price</th>\n",
       "      <th>km_driven</th>\n",
       "      <th>fuel</th>\n",
       "      <th>seller_type</th>\n",
       "      <th>transmission</th>\n",
       "      <th>owner</th>\n",
       "      <th>mileage</th>\n",
       "      <th>engine</th>\n",
       "      <th>max_power</th>\n",
       "      <th>seats</th>\n",
       "    </tr>\n",
       "  </thead>\n",
       "  <tbody>\n",
       "    <tr>\n",
       "      <th>year</th>\n",
       "      <td>1.000000</td>\n",
       "      <td>0.414092</td>\n",
       "      <td>-0.418006</td>\n",
       "      <td>-0.051355</td>\n",
       "      <td>0.234741</td>\n",
       "      <td>0.244707</td>\n",
       "      <td>-0.504905</td>\n",
       "      <td>0.406930</td>\n",
       "      <td>0.129553</td>\n",
       "      <td>0.299473</td>\n",
       "      <td>0.173232</td>\n",
       "    </tr>\n",
       "    <tr>\n",
       "      <th>selling_price</th>\n",
       "      <td>0.414092</td>\n",
       "      <td>1.000000</td>\n",
       "      <td>-0.225534</td>\n",
       "      <td>-0.202916</td>\n",
       "      <td>0.323047</td>\n",
       "      <td>0.588845</td>\n",
       "      <td>-0.221915</td>\n",
       "      <td>-0.045405</td>\n",
       "      <td>0.445985</td>\n",
       "      <td>0.720404</td>\n",
       "      <td>0.088110</td>\n",
       "    </tr>\n",
       "    <tr>\n",
       "      <th>km_driven</th>\n",
       "      <td>-0.418006</td>\n",
       "      <td>-0.225534</td>\n",
       "      <td>1.000000</td>\n",
       "      <td>-0.239728</td>\n",
       "      <td>-0.194966</td>\n",
       "      <td>-0.201229</td>\n",
       "      <td>0.282745</td>\n",
       "      <td>-0.175519</td>\n",
       "      <td>0.155493</td>\n",
       "      <td>-0.060632</td>\n",
       "      <td>0.119630</td>\n",
       "    </tr>\n",
       "    <tr>\n",
       "      <th>fuel</th>\n",
       "      <td>-0.051355</td>\n",
       "      <td>-0.202916</td>\n",
       "      <td>-0.239728</td>\n",
       "      <td>1.000000</td>\n",
       "      <td>0.031641</td>\n",
       "      <td>0.010049</td>\n",
       "      <td>-0.002649</td>\n",
       "      <td>-0.041751</td>\n",
       "      <td>-0.446485</td>\n",
       "      <td>-0.289742</td>\n",
       "      <td>-0.264171</td>\n",
       "    </tr>\n",
       "    <tr>\n",
       "      <th>seller_type</th>\n",
       "      <td>0.234741</td>\n",
       "      <td>0.323047</td>\n",
       "      <td>-0.194966</td>\n",
       "      <td>0.031641</td>\n",
       "      <td>1.000000</td>\n",
       "      <td>0.355598</td>\n",
       "      <td>-0.200111</td>\n",
       "      <td>0.007163</td>\n",
       "      <td>0.124880</td>\n",
       "      <td>0.234595</td>\n",
       "      <td>-0.027754</td>\n",
       "    </tr>\n",
       "    <tr>\n",
       "      <th>transmission</th>\n",
       "      <td>0.244707</td>\n",
       "      <td>0.588845</td>\n",
       "      <td>-0.201229</td>\n",
       "      <td>0.010049</td>\n",
       "      <td>0.355598</td>\n",
       "      <td>1.000000</td>\n",
       "      <td>-0.141456</td>\n",
       "      <td>-0.111906</td>\n",
       "      <td>0.273145</td>\n",
       "      <td>0.513458</td>\n",
       "      <td>-0.022955</td>\n",
       "    </tr>\n",
       "    <tr>\n",
       "      <th>owner</th>\n",
       "      <td>-0.504905</td>\n",
       "      <td>-0.221915</td>\n",
       "      <td>0.282745</td>\n",
       "      <td>-0.002649</td>\n",
       "      <td>-0.200111</td>\n",
       "      <td>-0.141456</td>\n",
       "      <td>1.000000</td>\n",
       "      <td>-0.209938</td>\n",
       "      <td>-0.046630</td>\n",
       "      <td>-0.141904</td>\n",
       "      <td>-0.064504</td>\n",
       "    </tr>\n",
       "    <tr>\n",
       "      <th>mileage</th>\n",
       "      <td>0.406930</td>\n",
       "      <td>-0.045405</td>\n",
       "      <td>-0.175519</td>\n",
       "      <td>-0.041751</td>\n",
       "      <td>0.007163</td>\n",
       "      <td>-0.111906</td>\n",
       "      <td>-0.209938</td>\n",
       "      <td>1.000000</td>\n",
       "      <td>-0.139442</td>\n",
       "      <td>-0.028405</td>\n",
       "      <td>0.164163</td>\n",
       "    </tr>\n",
       "    <tr>\n",
       "      <th>engine</th>\n",
       "      <td>0.129553</td>\n",
       "      <td>0.445985</td>\n",
       "      <td>0.155493</td>\n",
       "      <td>-0.446485</td>\n",
       "      <td>0.124880</td>\n",
       "      <td>0.273145</td>\n",
       "      <td>-0.046630</td>\n",
       "      <td>-0.139442</td>\n",
       "      <td>1.000000</td>\n",
       "      <td>0.752880</td>\n",
       "      <td>0.696653</td>\n",
       "    </tr>\n",
       "    <tr>\n",
       "      <th>max_power</th>\n",
       "      <td>0.299473</td>\n",
       "      <td>0.720404</td>\n",
       "      <td>-0.060632</td>\n",
       "      <td>-0.289742</td>\n",
       "      <td>0.234595</td>\n",
       "      <td>0.513458</td>\n",
       "      <td>-0.141904</td>\n",
       "      <td>-0.028405</td>\n",
       "      <td>0.752880</td>\n",
       "      <td>1.000000</td>\n",
       "      <td>0.394673</td>\n",
       "    </tr>\n",
       "    <tr>\n",
       "      <th>seats</th>\n",
       "      <td>0.173232</td>\n",
       "      <td>0.088110</td>\n",
       "      <td>0.119630</td>\n",
       "      <td>-0.264171</td>\n",
       "      <td>-0.027754</td>\n",
       "      <td>-0.022955</td>\n",
       "      <td>-0.064504</td>\n",
       "      <td>0.164163</td>\n",
       "      <td>0.696653</td>\n",
       "      <td>0.394673</td>\n",
       "      <td>1.000000</td>\n",
       "    </tr>\n",
       "  </tbody>\n",
       "</table>\n",
       "</div>"
      ],
      "text/plain": [
       "                   year  selling_price  km_driven      fuel  seller_type  \\\n",
       "year           1.000000       0.414092  -0.418006 -0.051355     0.234741   \n",
       "selling_price  0.414092       1.000000  -0.225534 -0.202916     0.323047   \n",
       "km_driven     -0.418006      -0.225534   1.000000 -0.239728    -0.194966   \n",
       "fuel          -0.051355      -0.202916  -0.239728  1.000000     0.031641   \n",
       "seller_type    0.234741       0.323047  -0.194966  0.031641     1.000000   \n",
       "transmission   0.244707       0.588845  -0.201229  0.010049     0.355598   \n",
       "owner         -0.504905      -0.221915   0.282745 -0.002649    -0.200111   \n",
       "mileage        0.406930      -0.045405  -0.175519 -0.041751     0.007163   \n",
       "engine         0.129553       0.445985   0.155493 -0.446485     0.124880   \n",
       "max_power      0.299473       0.720404  -0.060632 -0.289742     0.234595   \n",
       "seats          0.173232       0.088110   0.119630 -0.264171    -0.027754   \n",
       "\n",
       "               transmission     owner   mileage    engine  max_power     seats  \n",
       "year               0.244707 -0.504905  0.406930  0.129553   0.299473  0.173232  \n",
       "selling_price      0.588845 -0.221915 -0.045405  0.445985   0.720404  0.088110  \n",
       "km_driven         -0.201229  0.282745 -0.175519  0.155493  -0.060632  0.119630  \n",
       "fuel               0.010049 -0.002649 -0.041751 -0.446485  -0.289742 -0.264171  \n",
       "seller_type        0.355598 -0.200111  0.007163  0.124880   0.234595 -0.027754  \n",
       "transmission       1.000000 -0.141456 -0.111906  0.273145   0.513458 -0.022955  \n",
       "owner             -0.141456  1.000000 -0.209938 -0.046630  -0.141904 -0.064504  \n",
       "mileage           -0.111906 -0.209938  1.000000 -0.139442  -0.028405  0.164163  \n",
       "engine             0.273145 -0.046630 -0.139442  1.000000   0.752880  0.696653  \n",
       "max_power          0.513458 -0.141904 -0.028405  0.752880   1.000000  0.394673  \n",
       "seats             -0.022955 -0.064504  0.164163  0.696653   0.394673  1.000000  "
      ]
     },
     "execution_count": 47,
     "metadata": {},
     "output_type": "execute_result"
    }
   ],
   "source": [
    "dataframe2.corr()"
   ]
  },
  {
   "cell_type": "markdown",
   "metadata": {},
   "source": [
    "From the above dataframe matrix , we do get a whole lot of information about the Cars and it's components . Starting from mileage , which shows a strong coefficient with the years , stating that over the years all the new cars being manufactured , showed improved mileage , due to more effective components in the Cars .\n",
    "\n",
    "\n",
    "Selling Price shows a very strong coefficiency with Power , which is true from the fact that more horsepower is definitely expensive in all sense .\n",
    "\n",
    "\n",
    "The correlation matrix here does in fact shows the obvious that cars with higher power , bigger engine tend to have more seats , less mileage , and higher cost .\n",
    "Most importantly , fuel has a negative correlation here , which states the fact that Diesel cars tend to have less selling that LPGs and CNGs ."
   ]
  },
  {
   "cell_type": "markdown",
   "metadata": {},
   "source": [
    "#### HeatMap for DataFrame2 correlation ."
   ]
  },
  {
   "cell_type": "markdown",
   "metadata": {},
   "source": [
    "Since the DataFrame1 correlation matrix is small and simple , we might not need to generate a heatmap for that , but DataFrame2 has turned large and looking at each and every values in detail might turn out to be tiresome , hence we will be creating a heatmap for the same ."
   ]
  },
  {
   "cell_type": "code",
   "execution_count": 48,
   "metadata": {},
   "outputs": [
    {
     "data": {
      "text/plain": [
       "<matplotlib.axes._subplots.AxesSubplot at 0x7fa56830e5d0>"
      ]
     },
     "execution_count": 48,
     "metadata": {},
     "output_type": "execute_result"
    },
    {
     "data": {
      "image/png": "[encoded data removed]",
      "text/plain": [
       "<Figure size 1152x720 with 2 Axes>"
      ]
     },
     "metadata": {
      "needs_background": "light"
     },
     "output_type": "display_data"
    }
   ],
   "source": [
    "fig, ax = plt.subplots(figsize=(16,10))\n",
    "\n",
    "matrix = np.triu(dataframe2.corr())\n",
    "sns.heatmap(dataframe2.corr(), annot=True, fmt='.2g', linewidths=.5, mask=matrix, ax=ax)"
   ]
  },
  {
   "cell_type": "markdown",
   "metadata": {},
   "source": [
    "#### Splitting Datasets into Training and Testing ."
   ]
  },
  {
   "cell_type": "code",
   "execution_count": null,
   "metadata": {},
   "outputs": [],
   "source": []
  },
  {
   "cell_type": "markdown",
   "metadata": {},
   "source": [
    "Now we would need to divide the dataframes into dataframe_x and dataframe_y , where dataframe_x would contain the features on which the model would train , and dataframe_y consists of the result for each row , which model would train against .\n",
    "\n",
    "\n",
    "Here , we would be using Selling_Price as the result that we want to predict , based on the features of the car ."
   ]
  },
  {
   "cell_type": "code",
   "execution_count": 49,
   "metadata": {},
   "outputs": [],
   "source": [
    "dataframe1_y = dataframe1['selling_price'].copy()\n",
    "dataframe1_x = dataframe1.drop(['selling_price'],axis=1)\n",
    "\n",
    "dataframe2_y = dataframe2['selling_price'].copy()\n",
    "dataframe2_x = dataframe2.drop(['selling_price'],axis=1)"
   ]
  }
 ],
 "metadata": {
  "kernelspec": {
   "display_name": "Python 3",
   "language": "python",
   "name": "python3"
  },
  "language_info": {
   "codemirror_mode": {
    "name": "ipython",
    "version": 3
   },
   "file_extension": ".py",
   "mimetype": "text/x-python",
   "name": "python",
   "nbconvert_exporter": "python",
   "pygments_lexer": "ipython3",
   "version": "3.7.6"
  }
 },
 "nbformat": 4,
 "nbformat_minor": 4
}
